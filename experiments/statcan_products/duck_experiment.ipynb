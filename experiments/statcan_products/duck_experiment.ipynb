{
 "cells": [
  {
   "cell_type": "code",
   "execution_count": 41,
   "id": "5e04e469-d3eb-42ca-b548-5e6f1fa6af9d",
   "metadata": {},
   "outputs": [],
   "source": [
    "import buckaroo\n",
    "import duckdb\n",
    "import polars as pl"
   ]
  },
  {
   "cell_type": "code",
   "execution_count": 16,
   "id": "97c8e92b-21e4-4cc5-8dbe-7b42361ce3f9",
   "metadata": {},
   "outputs": [],
   "source": [
    "con = duckdb.connect()"
   ]
  },
  {
   "cell_type": "code",
   "execution_count": 36,
   "id": "e02f2416-fd16-444b-8fd4-eec2cecee5a7",
   "metadata": {},
   "outputs": [
    {
     "data": {
      "text/plain": [
       "<duckdb.duckdb.DuckDBPyConnection at 0x7f3bbc156230>"
      ]
     },
     "execution_count": 36,
     "metadata": {},
     "output_type": "execute_result"
    }
   ],
   "source": [
    "con.execute(\"\"\"\n",
    "DESCRIBE '/data/tables/output/en/testing/36100670.parquet';\n",
    "\"\"\")"
   ]
  },
  {
   "cell_type": "code",
   "execution_count": 37,
   "id": "fafa7ce7-8619-4951-8c73-7bfbc66dc92f",
   "metadata": {},
   "outputs": [
    {
     "data": {
      "text/plain": [
       "[('REF_DATE', 'DATE', 'YES', None, None, None),\n",
       " ('GEO', 'VARCHAR', 'YES', None, None, None),\n",
       " ('DGUID', 'VARCHAR', 'YES', None, None, None),\n",
       " ('Seasonality', 'VARCHAR', 'YES', None, None, None),\n",
       " ('Selected credit estimates', 'VARCHAR', 'YES', None, None, None),\n",
       " ('UOM', 'VARCHAR', 'YES', None, None, None),\n",
       " ('UOM_ID', 'TINYINT', 'YES', None, None, None),\n",
       " ('SCALAR_FACTOR', 'VARCHAR', 'YES', None, None, None),\n",
       " ('SCALAR_ID', 'TINYINT', 'YES', None, None, None),\n",
       " ('VECTOR', 'VARCHAR', 'YES', None, None, None),\n",
       " ('COORDINATE', 'VARCHAR', 'YES', None, None, None),\n",
       " ('VALUE', 'INTEGER', 'YES', None, None, None),\n",
       " ('STATUS', 'VARCHAR', 'YES', None, None, None),\n",
       " ('SYMBOL', 'TINYINT', 'YES', None, None, None),\n",
       " ('TERMINATED', 'TINYINT', 'YES', None, None, None),\n",
       " ('DECIMALS', 'TINYINT', 'YES', None, None, None)]"
      ]
     },
     "execution_count": 37,
     "metadata": {},
     "output_type": "execute_result"
    }
   ],
   "source": [
    "con.fetchall()"
   ]
  },
  {
   "cell_type": "code",
   "execution_count": 42,
   "id": "a4ed2881-91b7-4473-b246-a969ef59efba",
   "metadata": {},
   "outputs": [
    {
     "data": {
      "application/vnd.jupyter.widget-view+json": {
       "model_id": "d937312a19f44fc2a8f87bcae8d0faca",
       "version_major": 2,
       "version_minor": 1
      },
      "text/plain": [
       "PolarsBuckarooWidget(buckaroo_options={'sampled': ['random'], 'auto_clean': ['aggressive', 'conservative'], 'p…"
      ]
     },
     "metadata": {},
     "output_type": "display_data"
    }
   ],
   "source": [
    "con.execute(\"SELECT DISTINCT REF_DATE FROM '/data/tables/output/en/testing/36100670.parquet' ORDER BY REF_DATE\").pl()"
   ]
  },
  {
   "cell_type": "code",
   "execution_count": 44,
   "id": "f400feee-efb6-421a-b518-1f9c0fc21bcb",
   "metadata": {},
   "outputs": [
    {
     "data": {
      "application/vnd.jupyter.widget-view+json": {
       "model_id": "c2edc671f3014e4aae90a2a5b0577bfa",
       "version_major": 2,
       "version_minor": 1
      },
      "text/plain": [
       "PolarsBuckarooWidget(buckaroo_options={'sampled': ['random'], 'auto_clean': ['aggressive', 'conservative'], 'p…"
      ]
     },
     "metadata": {},
     "output_type": "display_data"
    }
   ],
   "source": [
    "con.execute(\"\"\"\n",
    "SELECT REF_DATE, DGUID, Seasonality, 'Selected credit estimates', VALUE\n",
    "FROM '/data/tables/output/en/testing/36100670.parquet'\n",
    "WHERE REF_DATE > DATE '2018-01-01'\n",
    "\"\"\").pl()"
   ]
  },
  {
   "cell_type": "code",
   "execution_count": null,
   "id": "e2e00108-bc8f-4b8b-91e0-f7bf9b44c59d",
   "metadata": {},
   "outputs": [],
   "source": []
  }
 ],
 "metadata": {
  "kernelspec": {
   "display_name": "Python 3 (ipykernel)",
   "language": "python",
   "name": "python3"
  },
  "language_info": {
   "codemirror_mode": {
    "name": "ipython",
    "version": 3
   },
   "file_extension": ".py",
   "mimetype": "text/x-python",
   "name": "python",
   "nbconvert_exporter": "python",
   "pygments_lexer": "ipython3",
   "version": "3.12.3"
  }
 },
 "nbformat": 4,
 "nbformat_minor": 5
}
