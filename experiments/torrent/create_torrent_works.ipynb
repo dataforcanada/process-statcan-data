{
 "cells": [
  {
   "cell_type": "code",
   "execution_count": 1,
   "id": "4ad35784-72f1-4da1-8310-bdc701b3bf57",
   "metadata": {},
   "outputs": [
    {
     "name": "stdout",
     "output_type": "stream",
     "text": [
      "Successfully created torrent:\n",
      "  Name:                canvec_50K_QC_Hydro_fgdb.zip\n",
      "  Size:                3212.87 MiB\n",
      "  Pieces:              1607 x 2048 KiB\n",
      "  Comment:             created with py3createtorrent v1.2.1\n",
      "  Private:             no\n",
      "  Creation date:       2025-06-27 16:05:37\n",
      "  DHT bootstrap nodes: (none)\n",
      "  Webseeds:            ['https://data-02.dataforcanada.org/archive/natural_resources_canada/hydro/2019/canvec_50K_QC_Hydro_fgdb.zip', 'https://archive.org/download/canvec-hydro-50k-2019-07-24/canvec_50K_QC_Hydro_fgdb.zip', 'https://zenodo.org/records/15350060/files/canvec_50K_QC_Hydro_fgdb.zip?download=1']\n",
      "  Primary tracker:     https://tracker.yemekyedim.com:443/announce\n",
      "  Backup trackers:\n",
      "    udp://tracker.opentrackr.org:1337/announce\n"
     ]
    }
   ],
   "source": [
    "py3createtorrent --tracker \"https://tracker.yemekyedim.com:443/announce\" \\\n",
    "    --tracker \"udp://tracker.opentrackr.org:1337/announce\" \\\n",
    "    --webseed \"https://data-02.dataforcanada.org/archive/natural_resources_canada/hydro/2019/canvec_50K_QC_Hydro_fgdb.zip\" \\\n",
    "    --webseed \"https://archive.org/download/canvec-hydro-50k-2019-07-24/canvec_50K_QC_Hydro_fgdb.zip\" \\\n",
    "    --webseed \"https://zenodo.org/records/15350060/files/canvec_50K_QC_Hydro_fgdb.zip?download=1\" \\\n",
    "    /data/canvec/canvec_50K_QC_Hydro_fgdb.zip \\\n",
    "    --output canvec_50K_QC_Hydro_fgdb.zip.torrent \\\n",
    "    --force"
   ]
  },
  {
   "cell_type": "code",
   "execution_count": null,
   "id": "213373da-ecb0-468a-9ab8-79d7cad42f2c",
   "metadata": {},
   "outputs": [],
   "source": [
    "py3createtorrent --tracker \"https://tracker.yemekyedim.com:443/announce\" \\\n",
    "    --tracker \"udp://tracker.opentrackr.org:1337/announce\" \\\n",
    "    --webseed \"https://data-02.dataforcanada.org/archive/s2maps/2023/s2maps-sentinel2-2023.pmtiles\" \\\n",
    "    s2maps-sentinel2-2023.pmtiles \\\n",
    "    --output s2maps-sentinel2-2023.pmtiles.torrent \\\n",
    "    --force"
   ]
  }
 ],
 "metadata": {
  "kernelspec": {
   "display_name": "Bash",
   "language": "bash",
   "name": "bash"
  },
  "language_info": {
   "codemirror_mode": "shell",
   "file_extension": ".sh",
   "mimetype": "text/x-sh",
   "name": "bash"
  }
 },
 "nbformat": 4,
 "nbformat_minor": 5
}
